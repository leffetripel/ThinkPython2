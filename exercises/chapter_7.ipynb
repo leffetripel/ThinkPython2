{
 "cells": [
  {
   "cell_type": "markdown",
   "id": "2810eb66-e56c-470a-918e-a54ec29ecc73",
   "metadata": {},
   "source": [
    "# Exercise 7.1 "
   ]
  },
  {
   "cell_type": "code",
   "execution_count": 2,
   "id": "b650c33e-2c7c-461c-811c-96a3f8b66130",
   "metadata": {},
   "outputs": [],
   "source": [
    "def mysqrt(a):\n",
    "    x = a/2\n",
    "    while True:\n",
    "        y = (x+ a/x)/2\n",
    "        if y == x:\n",
    "            break\n",
    "        x=y\n",
    "    return x\n",
    "    "
   ]
  },
  {
   "cell_type": "code",
   "execution_count": 11,
   "id": "25476694-40c8-4f7d-a551-add6f606705a",
   "metadata": {},
   "outputs": [],
   "source": [
    "import math\n",
    "def test_square_root(n):\n",
    "    \"\"\"\n",
    "    Test mysqrt against math sqrt from 1 to n\n",
    "    \"\"\"\n",
    "    print(\"a \\t mysqrt(a) \\t math.sqrt(a) \\t diff\")\n",
    "    print(\"- \\t --------- \\t ------------ \\t ----\")\n",
    "    for i in range(1,n+1):\n",
    "        mysq = mysqrt(i)\n",
    "        mathsq = math.sqrt(i)\n",
    "        diff = abs(mysq - mathsq)\n",
    "        print (\"%f \\t %f \\t %f \\t %e\" % (i, mysq, mathsq, diff))\n",
    "        "
   ]
  },
  {
   "cell_type": "code",
   "execution_count": 12,
   "id": "d10b2d9f-a64a-412d-9ad1-048e74cbbe35",
   "metadata": {},
   "outputs": [
    {
     "name": "stdout",
     "output_type": "stream",
     "text": [
      "a \t mysqrt(a) \t math.sqrt(a) \t diff\n",
      "- \t --------- \t ------------ \t ----\n",
      "1.000000 \t 1.000000 \t 1.000000 \t 0.000000e+00\n",
      "2.000000 \t 1.414214 \t 1.414214 \t 2.220446e-16\n",
      "3.000000 \t 1.732051 \t 1.732051 \t 0.000000e+00\n",
      "4.000000 \t 2.000000 \t 2.000000 \t 0.000000e+00\n",
      "5.000000 \t 2.236068 \t 2.236068 \t 0.000000e+00\n",
      "6.000000 \t 2.449490 \t 2.449490 \t 0.000000e+00\n",
      "7.000000 \t 2.645751 \t 2.645751 \t 0.000000e+00\n",
      "8.000000 \t 2.828427 \t 2.828427 \t 4.440892e-16\n",
      "9.000000 \t 3.000000 \t 3.000000 \t 0.000000e+00\n",
      "10.000000 \t 3.162278 \t 3.162278 \t 4.440892e-16\n"
     ]
    }
   ],
   "source": [
    "test_square_root(10)"
   ]
  },
  {
   "cell_type": "markdown",
   "id": "31143243-8a52-404e-94c0-c19ddc8d6e85",
   "metadata": {},
   "source": [
    "# Exercise 7.2"
   ]
  },
  {
   "cell_type": "code",
   "execution_count": 17,
   "id": "deb1dd71-639c-43bf-bcee-d0673d154931",
   "metadata": {},
   "outputs": [],
   "source": [
    "def eval_loop():\n",
    "    while True:\n",
    "        user_input = input('Enter a statement to eval or done to exit ')\n",
    "        if user_input == 'done':\n",
    "            print('Now exiting, goodby!')\n",
    "            break\n",
    "        else:\n",
    "            print(eval(user_input))\n",
    "    "
   ]
  },
  {
   "cell_type": "code",
   "execution_count": 16,
   "id": "1396acdf-ac31-47b0-b0df-5c61537b2573",
   "metadata": {},
   "outputs": [
    {
     "name": "stdin",
     "output_type": "stream",
     "text": [
      "Enter a statement to eval or done to exit  2 + 3\n"
     ]
    },
    {
     "name": "stdout",
     "output_type": "stream",
     "text": [
      "5\n"
     ]
    },
    {
     "name": "stdin",
     "output_type": "stream",
     "text": [
      "Enter a statement to eval or done to exit  math.sin(4)\n"
     ]
    },
    {
     "name": "stdout",
     "output_type": "stream",
     "text": [
      "-0.7568024953079282\n"
     ]
    },
    {
     "name": "stdin",
     "output_type": "stream",
     "text": [
      "Enter a statement to eval or done to exit  done\n"
     ]
    },
    {
     "name": "stdout",
     "output_type": "stream",
     "text": [
      "Now exiting\n"
     ]
    }
   ],
   "source": [
    "eval_loop()"
   ]
  },
  {
   "cell_type": "markdown",
   "id": "a78b3595-a588-4b92-bece-44ff6135806b",
   "metadata": {},
   "source": [
    "# Exercise 7.3"
   ]
  },
  {
   "cell_type": "code",
   "execution_count": 18,
   "id": "74502e7c-c09a-443a-8f2e-743bc898417f",
   "metadata": {},
   "outputs": [],
   "source": [
    "import numpy as np"
   ]
  },
  {
   "cell_type": "code",
   "execution_count": 42,
   "id": "a0346c1d-eecc-41f7-a1fc-6a29e65175d0",
   "metadata": {},
   "outputs": [],
   "source": [
    "def estimate_pi():\n",
    "    ABS_TOL = 1e-15\n",
    "    term=1\n",
    "    pi_over = 0\n",
    "    pi_const = 2*np.sqrt(2)/9801\n",
    "    k=0\n",
    "    while term > ABS_TOL:\n",
    "        term = np.math.factorial(4*k)*(1103+26390*k)/((np.math.factorial(k)*396**k)**4)\n",
    "        pi_over +=  term\n",
    "        k += 1\n",
    "    return pi_const/pi_over\n",
    "        "
   ]
  },
  {
   "cell_type": "code",
   "execution_count": 43,
   "id": "a28ad9ff-30f4-43da-8d09-361391353406",
   "metadata": {},
   "outputs": [
    {
     "name": "stdout",
     "output_type": "stream",
     "text": [
      "4.6 µs ± 58 ns per loop (mean ± std. dev. of 7 runs, 100000 loops each)\n"
     ]
    }
   ],
   "source": [
    "%%timeit\n",
    "estimate_pi()"
   ]
  },
  {
   "cell_type": "code",
   "execution_count": 44,
   "id": "b8e7bb9e-a5c0-40e7-ac45-8b299768f261",
   "metadata": {},
   "outputs": [
    {
     "name": "stdout",
     "output_type": "stream",
     "text": [
      "34.9 ns ± 0.137 ns per loop (mean ± std. dev. of 7 runs, 10000000 loops each)\n"
     ]
    }
   ],
   "source": [
    "%%timeit\n",
    "math.pi"
   ]
  }
 ],
 "metadata": {
  "kernelspec": {
   "display_name": "think_python_2e",
   "language": "python",
   "name": "think_python_2e"
  },
  "language_info": {
   "codemirror_mode": {
    "name": "ipython",
    "version": 3
   },
   "file_extension": ".py",
   "mimetype": "text/x-python",
   "name": "python",
   "nbconvert_exporter": "python",
   "pygments_lexer": "ipython3",
   "version": "3.9.4"
  }
 },
 "nbformat": 4,
 "nbformat_minor": 5
}
