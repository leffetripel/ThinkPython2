{
 "cells": [
  {
   "cell_type": "markdown",
   "id": "c7fe1d0f-5bbf-4662-9643-c37dbd6bb44d",
   "metadata": {},
   "source": [
    "# Exercise 11.1"
   ]
  },
  {
   "cell_type": "code",
   "execution_count": 27,
   "id": "23addcbe-1c55-4e8f-b3cc-411a8d238396",
   "metadata": {},
   "outputs": [],
   "source": [
    "def dictionerize_file(file_path = '../code/words.txt'):\n",
    "    with open(file_path, mode='r') as fh:\n",
    "        wordlist = [line.replace('\\n','').strip() for line in fh]\n",
    "    worddict = dict()\n",
    "    for word in wordlist:\n",
    "        if word in worddict:\n",
    "            worddict[word] += 1\n",
    "        else:\n",
    "            worddict[word] = 1\n",
    "    return worddict"
   ]
  },
  {
   "cell_type": "code",
   "execution_count": 28,
   "id": "1d86d745-252f-49b2-aab9-5b54561774f5",
   "metadata": {},
   "outputs": [],
   "source": [
    "dict = dictionerize_file()"
   ]
  },
  {
   "cell_type": "code",
   "execution_count": 30,
   "id": "538d318d-035c-4814-ab7e-fee03b8b630d",
   "metadata": {},
   "outputs": [
    {
     "data": {
      "text/plain": [
       "113783"
      ]
     },
     "execution_count": 30,
     "metadata": {},
     "output_type": "execute_result"
    }
   ],
   "source": [
    "len(dict)"
   ]
  }
 ],
 "metadata": {
  "kernelspec": {
   "display_name": "think_python_2e",
   "language": "python",
   "name": "think_python_2e"
  },
  "language_info": {
   "codemirror_mode": {
    "name": "ipython",
    "version": 3
   },
   "file_extension": ".py",
   "mimetype": "text/x-python",
   "name": "python",
   "nbconvert_exporter": "python",
   "pygments_lexer": "ipython3",
   "version": "3.9.4"
  }
 },
 "nbformat": 4,
 "nbformat_minor": 5
}
