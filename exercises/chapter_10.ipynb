{
 "cells": [
  {
   "cell_type": "code",
   "execution_count": 1,
   "id": "808646d4-9ccd-4419-97e3-ac61eaaaa22f",
   "metadata": {},
   "outputs": [],
   "source": [
    "import numpy as np"
   ]
  },
  {
   "cell_type": "markdown",
   "id": "ec7dc1f2-adfa-4c9e-a8cd-00b8bd30079c",
   "metadata": {},
   "source": [
    "# Exercise 10.1"
   ]
  },
  {
   "cell_type": "code",
   "execution_count": 2,
   "id": "38bfea32-e8c9-49f4-bd7c-8616af4fe777",
   "metadata": {},
   "outputs": [],
   "source": [
    "def nested_sum(t):\n",
    "    list_sum = 0\n",
    "    for l in t:\n",
    "        for  i in l:\n",
    "            list_sum += i\n",
    "            \n",
    "    return list_sum"
   ]
  },
  {
   "cell_type": "code",
   "execution_count": 3,
   "id": "c1cd83c0-17d4-448f-a37d-fdd623bac180",
   "metadata": {},
   "outputs": [
    {
     "data": {
      "text/plain": [
       "10"
      ]
     },
     "execution_count": 3,
     "metadata": {},
     "output_type": "execute_result"
    }
   ],
   "source": [
    "nested_sum([[1,2],[3,4]])"
   ]
  },
  {
   "cell_type": "markdown",
   "id": "ac3fd775-1b9d-4215-a06c-02f579e9711b",
   "metadata": {},
   "source": [
    "# Exercise 10.2"
   ]
  },
  {
   "cell_type": "code",
   "execution_count": 4,
   "id": "98a9900c-f107-4383-9885-915528f205d2",
   "metadata": {},
   "outputs": [],
   "source": [
    "def cumsum(t):\n",
    "    cumsum = [t[0]] \n",
    "    for i in t[1:]:\n",
    "        cumsum.append(i+cumsum[-1])\n",
    "    return cumsum"
   ]
  },
  {
   "cell_type": "code",
   "execution_count": 5,
   "id": "2a384639-bf92-497f-999b-a47f98d25c23",
   "metadata": {},
   "outputs": [
    {
     "data": {
      "text/plain": [
       "[1, 3, 6, 10]"
      ]
     },
     "execution_count": 5,
     "metadata": {},
     "output_type": "execute_result"
    }
   ],
   "source": [
    "cumsum([1,2,3,4])"
   ]
  },
  {
   "cell_type": "code",
   "execution_count": 6,
   "id": "cf73772c-6163-4e87-8010-dcab5b1199d6",
   "metadata": {},
   "outputs": [
    {
     "name": "stdout",
     "output_type": "stream",
     "text": [
      "83 µs ± 311 ns per loop (mean ± std. dev. of 7 runs, 10000 loops each)\n"
     ]
    }
   ],
   "source": [
    "%%timeit\n",
    "cumsum(range(1000))"
   ]
  },
  {
   "cell_type": "code",
   "execution_count": 7,
   "id": "a15e51cb-f74e-4a74-842a-ffbc37bbd6b2",
   "metadata": {},
   "outputs": [],
   "source": [
    "t = np.array(range(1000))"
   ]
  },
  {
   "cell_type": "code",
   "execution_count": 8,
   "id": "b3f8c31e-096a-47ae-b505-f4451917f74b",
   "metadata": {},
   "outputs": [
    {
     "name": "stdout",
     "output_type": "stream",
     "text": [
      "3.81 µs ± 12 ns per loop (mean ± std. dev. of 7 runs, 100000 loops each)\n"
     ]
    }
   ],
   "source": [
    "%%timeit\n",
    "np.cumsum(t)"
   ]
  },
  {
   "cell_type": "markdown",
   "id": "021a9ca4-028e-41d4-81ee-b70d44963dd9",
   "metadata": {},
   "source": [
    "# Exercise 10.3"
   ]
  },
  {
   "cell_type": "code",
   "execution_count": 9,
   "id": "69322815-d4a7-4865-be18-640f77bcb9ce",
   "metadata": {},
   "outputs": [],
   "source": [
    "def middle(t):\n",
    "    return t[1:-1]"
   ]
  },
  {
   "cell_type": "code",
   "execution_count": 10,
   "id": "15c8e1c6-c4dc-4923-82ee-db48fdd38219",
   "metadata": {},
   "outputs": [
    {
     "data": {
      "text/plain": [
       "[2, 3]"
      ]
     },
     "execution_count": 10,
     "metadata": {},
     "output_type": "execute_result"
    }
   ],
   "source": [
    "middle([1,2,3,4])"
   ]
  },
  {
   "cell_type": "markdown",
   "id": "85e93973-ed9a-46d5-89e4-292a893c52ae",
   "metadata": {},
   "source": [
    "# Exercise 10.4"
   ]
  },
  {
   "cell_type": "code",
   "execution_count": 11,
   "id": "9a3a1ca7-98b5-4439-82e3-ec5a29911d38",
   "metadata": {},
   "outputs": [
    {
     "data": {
      "text/plain": [
       "[1, 2, 3, 4]"
      ]
     },
     "execution_count": 11,
     "metadata": {},
     "output_type": "execute_result"
    }
   ],
   "source": [
    "def chop(t):\n",
    "    global s \n",
    "    s = t \n",
    "    s = s[1:-1]\n",
    "    t = s\n",
    "    return None\n",
    "t= [1,2,3,4]\n",
    "chop(t)\n",
    "t"
   ]
  },
  {
   "cell_type": "markdown",
   "id": "4c10821d-3eed-42ed-b479-c03bb37e44d4",
   "metadata": {},
   "source": [
    "# Exercise 10.5"
   ]
  },
  {
   "cell_type": "code",
   "execution_count": 12,
   "id": "e1210648-81c5-46fd-ab0b-ed1f77cc5bc0",
   "metadata": {},
   "outputs": [],
   "source": [
    "def is_sorted(l):\n",
    "    for i,j in zip(l[:-1],l[1:]):\n",
    "        if i>j: return False\n",
    "    return True"
   ]
  },
  {
   "cell_type": "code",
   "execution_count": 13,
   "id": "91da7799-984a-46af-a4be-a024c23d3b48",
   "metadata": {},
   "outputs": [],
   "source": [
    "assert is_sorted([1,2,2]) == True\n",
    "assert is_sorted(['b','a']) == False"
   ]
  },
  {
   "cell_type": "markdown",
   "id": "c7108e56-1e99-4531-af87-986b680daee9",
   "metadata": {},
   "source": [
    "# Exercise 10.6"
   ]
  },
  {
   "cell_type": "code",
   "execution_count": 14,
   "id": "f690d3a8-a686-4f95-b3d0-b40780294c1c",
   "metadata": {},
   "outputs": [],
   "source": [
    "def is_anagram(s1, s2):\n",
    "    for c1, c2 in zip(sorted(list(s1)),sorted(list(s2))):\n",
    "        if c1 != c2: return False\n",
    "    return True\n",
    "                      "
   ]
  },
  {
   "cell_type": "code",
   "execution_count": 15,
   "id": "2a5cd570-92ce-486f-bbc0-642bc10fb45b",
   "metadata": {},
   "outputs": [
    {
     "data": {
      "text/plain": [
       "True"
      ]
     },
     "execution_count": 15,
     "metadata": {},
     "output_type": "execute_result"
    }
   ],
   "source": [
    "is_anagram('looped', 'poodle')"
   ]
  },
  {
   "cell_type": "markdown",
   "id": "0dfe1a52-5331-43eb-9373-ab5e0357e5ba",
   "metadata": {},
   "source": [
    "# Exercise 10.7"
   ]
  },
  {
   "cell_type": "code",
   "execution_count": 16,
   "id": "07fe2a33-dbd2-43cc-b3f8-7b6dd12f8d72",
   "metadata": {},
   "outputs": [],
   "source": [
    "def is_strictly_sorted(l):\n",
    "    for i,j in zip(l[:-1],l[1:]):\n",
    "        if i>=j: return False\n",
    "    return True"
   ]
  },
  {
   "cell_type": "code",
   "execution_count": 17,
   "id": "46848bf6-a833-4550-8486-de944ef63ee8",
   "metadata": {},
   "outputs": [],
   "source": [
    "def has_duplicates(l):\n",
    "    return not is_strictly_sorted(sorted(l))"
   ]
  },
  {
   "cell_type": "code",
   "execution_count": 18,
   "id": "51643838-668a-4a0a-869d-9a11fc7df814",
   "metadata": {},
   "outputs": [
    {
     "data": {
      "text/plain": [
       "True"
      ]
     },
     "execution_count": 18,
     "metadata": {},
     "output_type": "execute_result"
    }
   ],
   "source": [
    "has_duplicates([2,1, 1,0])"
   ]
  },
  {
   "cell_type": "markdown",
   "id": "76b8aeec-d76e-4bdd-91d1-203b60447514",
   "metadata": {},
   "source": [
    "# Exercise 10.8"
   ]
  },
  {
   "cell_type": "code",
   "execution_count": 38,
   "id": "35008fcb-cb0d-4164-ad46-5a3254fd6e42",
   "metadata": {},
   "outputs": [],
   "source": [
    "def birthday_paradox(num_of_participents, num_of_samples):\n",
    "    has_same = 0\n",
    "    for i in range(num_of_samples):\n",
    "        birthdays = np.random.randint(1,356,num_of_participents)\n",
    "        has_same += int(len(birthdays) != len(set(birthdays)))\n",
    "    return has_same/num_of_samples*100"
   ]
  },
  {
   "cell_type": "code",
   "execution_count": 47,
   "id": "c9164fb9-aad2-445b-a586-67df7a05ca19",
   "metadata": {},
   "outputs": [
    {
     "data": {
      "text/plain": [
       "51.785000000000004"
      ]
     },
     "execution_count": 47,
     "metadata": {},
     "output_type": "execute_result"
    }
   ],
   "source": [
    "birthday_paradox(23,100000)"
   ]
  },
  {
   "cell_type": "markdown",
   "id": "699c1c2f-4e60-462a-a8a1-5e8b953c67cf",
   "metadata": {},
   "source": [
    "# Exercise 10.10"
   ]
  },
  {
   "cell_type": "code",
   "execution_count": 75,
   "id": "724bd303-6a95-49e8-b2d3-a4061d8f91a7",
   "metadata": {},
   "outputs": [],
   "source": [
    "def in_bisect(sorted_list, value):\n",
    "    \"\"\"\n",
    "    Bisection search, \n",
    "    returns True if value is in sorted_list,\n",
    "    False otherwise\n",
    "    \"\"\"\n",
    "    list_length = len(sorted_list)\n",
    "    # base case \n",
    "    if list_length <= 2 and value in sorted_list:\n",
    "        return True\n",
    "\n",
    "    # determine the intersection index \n",
    "    cut_point = int(np.floor(len(sorted_list)/2))\n",
    "#     print(sorted_list, cut_point)\n",
    "    # devide list and recurse\n",
    "    if value >= sorted_list[0] and value < sorted_list[cut_point]:\n",
    "        return in_bisect(sorted_list[:cut_point], value)\n",
    "    elif value >= sorted_list[cut_point] and value <= sorted_list[-1]:\n",
    "        return in_bisect(sorted_list[cut_point:], value)\n",
    "    else:\n",
    "        return False\n",
    "        "
   ]
  },
  {
   "cell_type": "code",
   "execution_count": 82,
   "id": "6f456611-78d8-45d6-b0c1-74f9e008c0fa",
   "metadata": {},
   "outputs": [
    {
     "data": {
      "text/plain": [
       "True"
      ]
     },
     "execution_count": 82,
     "metadata": {},
     "output_type": "execute_result"
    }
   ],
   "source": [
    "in_bisect(['a','b','c','d','f'], 'a')"
   ]
  },
  {
   "cell_type": "markdown",
   "id": "5234ab4b-1d9f-4400-81e3-23f7e27408ba",
   "metadata": {},
   "source": [
    "# Exercise 10.11"
   ]
  },
  {
   "cell_type": "code",
   "execution_count": null,
   "id": "e62663a6-cd2a-41c2-b808-14b5447076ad",
   "metadata": {},
   "outputs": [],
   "source": []
  }
 ],
 "metadata": {
  "kernelspec": {
   "display_name": "think_python_2e",
   "language": "python",
   "name": "think_python_2e"
  },
  "language_info": {
   "codemirror_mode": {
    "name": "ipython",
    "version": 3
   },
   "file_extension": ".py",
   "mimetype": "text/x-python",
   "name": "python",
   "nbconvert_exporter": "python",
   "pygments_lexer": "ipython3",
   "version": "3.9.4"
  }
 },
 "nbformat": 4,
 "nbformat_minor": 5
}
