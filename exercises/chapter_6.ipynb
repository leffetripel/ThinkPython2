{
 "cells": [
  {
   "cell_type": "code",
   "execution_count": 1,
   "id": "29a995d3-2161-4969-b78c-3998312823de",
   "metadata": {},
   "outputs": [],
   "source": [
    "import numpy as np"
   ]
  },
  {
   "cell_type": "code",
   "execution_count": null,
   "id": "e48585a3-d7d1-41ce-9a54-a1b8b03c6a49",
   "metadata": {},
   "outputs": [],
   "source": [
    "def two_times(s):\n",
    "    np.concatenate()\n",
    "    print()"
   ]
  }
 ],
 "metadata": {
  "kernelspec": {
   "display_name": "think_python_2e",
   "language": "python",
   "name": "think_python_2e"
  },
  "language_info": {
   "codemirror_mode": {
    "name": "ipython",
    "version": 3
   },
   "file_extension": ".py",
   "mimetype": "text/x-python",
   "name": "python",
   "nbconvert_exporter": "python",
   "pygments_lexer": "ipython3",
   "version": "3.9.4"
  }
 },
 "nbformat": 4,
 "nbformat_minor": 5
}
