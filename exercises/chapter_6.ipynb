{
 "cells": [
  {
   "cell_type": "code",
   "execution_count": 1,
   "id": "29a995d3-2161-4969-b78c-3998312823de",
   "metadata": {},
   "outputs": [],
   "source": [
    "import numpy as np"
   ]
  },
  {
   "cell_type": "markdown",
   "id": "ae9fbecf-7903-434a-9217-49801846c012",
   "metadata": {},
   "source": [
    "# Exercise 6.2"
   ]
  },
  {
   "cell_type": "code",
   "execution_count": 2,
   "id": "4c163389-4bf5-4ff9-ad41-d4444c5136fe",
   "metadata": {},
   "outputs": [
    {
     "name": "stdout",
     "output_type": "stream",
     "text": [
      "125\n"
     ]
    }
   ],
   "source": [
    "def ack(m, n):\n",
    "    \"\"\" Evaluates the ackermann function A(m,n)\"\"\"\n",
    "    if m==0:\n",
    "        return n+1\n",
    "    elif (m>0) and (n==0):\n",
    "        return ack(m-1,1)\n",
    "    else:\n",
    "        return ack(m-1,ack(m,n-1))\n",
    "    \n",
    "print(ack(3,4))\n",
    "    "
   ]
  },
  {
   "cell_type": "markdown",
   "id": "968f62c9-086f-4395-993e-b783d9f3dfa3",
   "metadata": {},
   "source": [
    "# Exercise 6.3"
   ]
  },
  {
   "cell_type": "code",
   "execution_count": 24,
   "id": "2cd348ec-6e40-40ed-80d9-a9cf22d17c67",
   "metadata": {},
   "outputs": [],
   "source": [
    "def is_palindrom(s):\n",
    "    if s==s[::-1]:\n",
    "        return True\n",
    "    else:\n",
    "        return False\n",
    "    \n",
    "assert is_palindrom('bob') == True\n",
    "assert is_palindrom('toast') == False"
   ]
  },
  {
   "cell_type": "markdown",
   "id": "6981f259-3a16-4439-baf2-8ba03489c6bd",
   "metadata": {},
   "source": [
    "# Exercise 6.4"
   ]
  },
  {
   "cell_type": "code",
   "execution_count": 19,
   "id": "0587fb4b-8c48-4ec7-b217-b83b4ac14707",
   "metadata": {},
   "outputs": [],
   "source": [
    "def is_power(a, b):\n",
    "    \"\"\"\n",
    "    A number, a, is a power of b if it is divisible by b and a/b is a power of b\n",
    "    \"\"\"\n",
    "    if a==0 or b==0:\n",
    "        return False    \n",
    "    elif a==b or b==1:\n",
    "        return True\n",
    "    elif a%b==0 and is_power(a/b, b)==True:\n",
    "        return True\n",
    "    else:\n",
    "        return False"
   ]
  },
  {
   "cell_type": "code",
   "execution_count": 23,
   "id": "ea0490fb-3e28-4222-ba4e-fc6314a4d5fc",
   "metadata": {},
   "outputs": [],
   "source": [
    "assert is_power(1,0) == False\n",
    "assert is_power(0,1) == False\n",
    "assert is_power(0,0) == False\n",
    "assert is_power(1,1) == True\n",
    "assert is_power(10,1) == True\n",
    "assert is_power(10,2) == False\n",
    "assert is_power(8,2) == True\n",
    "assert is_power(27,3) == True"
   ]
  },
  {
   "cell_type": "markdown",
   "id": "15f1f9a6-e22d-468b-9e42-7f14cade2bf1",
   "metadata": {},
   "source": [
    "# Exercise 6.5"
   ]
  },
  {
   "cell_type": "code",
   "execution_count": 3,
   "id": "50519c63-31b2-49b9-8246-daa4079632ba",
   "metadata": {
    "tags": []
   },
   "outputs": [],
   "source": [
    "def gcd(a, b):\n",
    "    \"\"\"\n",
    "    The greatest common divisor (GCD) of a and b is\n",
    "    the largest number that dividesboth of them with no remainder\n",
    "    \"\"\"\n",
    "    if b==0:\n",
    "        return a\n",
    "    else:\n",
    "        return gcd(b, a%b)"
   ]
  }
 ],
 "metadata": {
  "kernelspec": {
   "display_name": "think_python_2e",
   "language": "python",
   "name": "think_python_2e"
  },
  "language_info": {
   "codemirror_mode": {
    "name": "ipython",
    "version": 3
   },
   "file_extension": ".py",
   "mimetype": "text/x-python",
   "name": "python",
   "nbconvert_exporter": "python",
   "pygments_lexer": "ipython3",
   "version": "3.9.4"
  }
 },
 "nbformat": 4,
 "nbformat_minor": 5
}
