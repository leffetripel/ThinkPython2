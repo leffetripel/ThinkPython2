{
 "cells": [
  {
   "cell_type": "markdown",
   "id": "defc1f18-343e-4e30-a032-eda68b76e009",
   "metadata": {},
   "source": [
    "# Exercise 8.1"
   ]
  },
  {
   "cell_type": "code",
   "execution_count": 4,
   "id": "d13d611f-9d02-47d6-b2d9-94a8b1955a43",
   "metadata": {},
   "outputs": [
    {
     "data": {
      "text/plain": [
       "6"
      ]
     },
     "execution_count": 4,
     "metadata": {},
     "output_type": "execute_result"
    }
   ],
   "source": [
    "s = 'this is a string'\n",
    "s.find('s a')"
   ]
  },
  {
   "cell_type": "code",
   "execution_count": null,
   "id": "7266e8a0-595c-4604-a6f9-887f8c74305a",
   "metadata": {},
   "outputs": [],
   "source": []
  }
 ],
 "metadata": {
  "kernelspec": {
   "display_name": "think_python_2e",
   "language": "python",
   "name": "think_python_2e"
  },
  "language_info": {
   "codemirror_mode": {
    "name": "ipython",
    "version": 3
   },
   "file_extension": ".py",
   "mimetype": "text/x-python",
   "name": "python",
   "nbconvert_exporter": "python",
   "pygments_lexer": "ipython3",
   "version": "3.9.4"
  }
 },
 "nbformat": 4,
 "nbformat_minor": 5
}
