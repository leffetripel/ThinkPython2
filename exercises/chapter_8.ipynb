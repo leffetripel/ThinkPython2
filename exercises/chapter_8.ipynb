{
 "cells": [
  {
   "cell_type": "markdown",
   "id": "defc1f18-343e-4e30-a032-eda68b76e009",
   "metadata": {},
   "source": [
    "# Exercise 8.1"
   ]
  },
  {
   "cell_type": "code",
   "execution_count": 4,
   "id": "d13d611f-9d02-47d6-b2d9-94a8b1955a43",
   "metadata": {},
   "outputs": [
    {
     "data": {
      "text/plain": [
       "6"
      ]
     },
     "execution_count": 4,
     "metadata": {},
     "output_type": "execute_result"
    }
   ],
   "source": [
    "s = 'this is a string'\n",
    "s.find('s a')"
   ]
  },
  {
   "cell_type": "markdown",
   "id": "01e12dc0-a6ee-4051-978e-048e4fcada36",
   "metadata": {},
   "source": [
    "# Exercise 8.2"
   ]
  },
  {
   "cell_type": "code",
   "execution_count": 5,
   "id": "111dea22-1ebc-4f6d-b59d-909b2ade25e1",
   "metadata": {},
   "outputs": [
    {
     "data": {
      "text/plain": [
       "3"
      ]
     },
     "execution_count": 5,
     "metadata": {},
     "output_type": "execute_result"
    }
   ],
   "source": [
    "'banana'.count('a')"
   ]
  },
  {
   "cell_type": "markdown",
   "id": "21b613d2-4368-4201-8a01-b6678db5bdd7",
   "metadata": {},
   "source": [
    "# Exercise 8.3"
   ]
  },
  {
   "cell_type": "code",
   "execution_count": 6,
   "id": "63c3d974-8e67-47a3-9710-d4fbd57f24dd",
   "metadata": {},
   "outputs": [
    {
     "data": {
      "text/plain": [
       "'ananab'"
      ]
     },
     "execution_count": 6,
     "metadata": {},
     "output_type": "execute_result"
    }
   ],
   "source": [
    "'banana'[::-1]"
   ]
  },
  {
   "cell_type": "markdown",
   "id": "994dbbb7-e974-4542-9ec0-4adf39be3735",
   "metadata": {},
   "source": [
    "# Exercise 8.5"
   ]
  },
  {
   "cell_type": "code",
   "execution_count": 15,
   "id": "f4803ca7-39c0-4269-92c9-8abbe770b6c5",
   "metadata": {},
   "outputs": [],
   "source": [
    "def rotate_word(s, i):\n",
    "    return ''.join([chr(ord(c)+i) for c in s])"
   ]
  },
  {
   "cell_type": "code",
   "execution_count": 16,
   "id": "f6262915-6967-451f-a9de-b6dd77f4a39f",
   "metadata": {},
   "outputs": [
    {
     "data": {
      "text/plain": [
       "'HAL'"
      ]
     },
     "execution_count": 16,
     "metadata": {},
     "output_type": "execute_result"
    }
   ],
   "source": [
    "rotate_word('IBM', -1)"
   ]
  },
  {
   "cell_type": "code",
   "execution_count": null,
   "id": "c2c7a43c-bdb0-48e8-8509-14532c48b7da",
   "metadata": {},
   "outputs": [],
   "source": []
  }
 ],
 "metadata": {
  "kernelspec": {
   "display_name": "think_python_2e",
   "language": "python",
   "name": "think_python_2e"
  },
  "language_info": {
   "codemirror_mode": {
    "name": "ipython",
    "version": 3
   },
   "file_extension": ".py",
   "mimetype": "text/x-python",
   "name": "python",
   "nbconvert_exporter": "python",
   "pygments_lexer": "ipython3",
   "version": "3.9.4"
  }
 },
 "nbformat": 4,
 "nbformat_minor": 5
}
