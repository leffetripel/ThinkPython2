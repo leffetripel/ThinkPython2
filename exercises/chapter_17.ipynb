{
 "cells": [
  {
   "cell_type": "code",
   "execution_count": 101,
   "id": "4a90de8e-30ab-4bf9-8a83-9ad7eca2b106",
   "metadata": {},
   "outputs": [],
   "source": [
    "class Time:\n",
    "    \"\"\"\n",
    "    Represents the time of day \n",
    "    attributes: hours, minutes, seconds\n",
    "    \"\"\"\n",
    "    def __init__(self, hour=23, minute=59, second=59):\n",
    "        self.hour=hour\n",
    "        self.minute=minute\n",
    "        self.second=second\n",
    "    \n",
    "    def __str__(self):\n",
    "        return '%.2d:%.2d:%.2d' % (self.hour, self.minute, self.second)\n",
    "    \n",
    "    def time_to_int(self):\n",
    "        \"\"\"Returns the time in seconds\"\"\"\n",
    "        return self.second + 60*(self.minute + 60*self.hour)\n",
    "        \n",
    "    def print_time(self):\n",
    "        print('%.2d:%.2d:%.2d' % (self.hour, self.minute, self.second))\n",
    "    \n",
    "\n",
    "    \n",
    "    def __add__(self, other):\n",
    "        if isinstance(other, Time):\n",
    "            return self.add_time(other)\n",
    "        else:\n",
    "            return self.increment(other)\n",
    "    \n",
    "    def __radd__(self, other):\n",
    "        return self.__add__(other)\n",
    "    \n",
    "    def add_time(self, other):\n",
    "        seconds = self.time_to_int() + other.time_to_int()\n",
    "        return int_to_time(seconds)\n",
    "    \n",
    "    def increment(self, seconds):\n",
    "        seconds += self.time_to_int()\n",
    "        return int_to_time(seconds)\n",
    "\n",
    "        \n",
    "def int_to_time(time_in_seconds):\n",
    "    time = Time()\n",
    "    minute, time.second = divmod(time_in_seconds, 60) \n",
    "    time.hour, time.minute = divmod(minute, 60) \n",
    "    return time\n",
    "\n"
   ]
  },
  {
   "cell_type": "code",
   "execution_count": 102,
   "id": "bf3272c1-9897-421a-aa96-cf4428b60eae",
   "metadata": {},
   "outputs": [],
   "source": [
    "t1 = Time()"
   ]
  },
  {
   "cell_type": "code",
   "execution_count": 103,
   "id": "33d06aac-da12-466a-b9a3-15e9b4712036",
   "metadata": {},
   "outputs": [
    {
     "name": "stdout",
     "output_type": "stream",
     "text": [
      "23:59:59\n"
     ]
    }
   ],
   "source": [
    "t1.print_time()"
   ]
  },
  {
   "cell_type": "code",
   "execution_count": 104,
   "id": "5b84dafa-fddd-4c07-9e08-a85a738f49e1",
   "metadata": {},
   "outputs": [
    {
     "name": "stdout",
     "output_type": "stream",
     "text": [
      "23:59:59\n"
     ]
    }
   ],
   "source": [
    "print(t1)"
   ]
  },
  {
   "cell_type": "code",
   "execution_count": 105,
   "id": "70458f3b-aefe-405d-8a4b-ada9555806b6",
   "metadata": {},
   "outputs": [
    {
     "data": {
      "text/plain": [
       "86399"
      ]
     },
     "execution_count": 105,
     "metadata": {},
     "output_type": "execute_result"
    }
   ],
   "source": [
    "t1.time_to_int()"
   ]
  },
  {
   "cell_type": "code",
   "execution_count": 106,
   "id": "c329cc73-1139-4735-95b3-2ce9a31835cd",
   "metadata": {},
   "outputs": [],
   "source": [
    "t2 = int_to_time(3601)"
   ]
  },
  {
   "cell_type": "code",
   "execution_count": 107,
   "id": "e74519d1-6737-4335-a08a-aa93caf5274b",
   "metadata": {},
   "outputs": [
    {
     "name": "stdout",
     "output_type": "stream",
     "text": [
      "01:00:01\n"
     ]
    }
   ],
   "source": [
    "print(t2)"
   ]
  },
  {
   "cell_type": "code",
   "execution_count": 108,
   "id": "d9f2ac37-8515-4b80-8938-02c7157ca12e",
   "metadata": {},
   "outputs": [
    {
     "name": "stdout",
     "output_type": "stream",
     "text": [
      "47:59:58\n"
     ]
    }
   ],
   "source": [
    "print(t1 + t1)"
   ]
  },
  {
   "cell_type": "code",
   "execution_count": 111,
   "id": "5bfa7bd3-4d82-4e09-83d2-47c6421a93b8",
   "metadata": {},
   "outputs": [
    {
     "name": "stdout",
     "output_type": "stream",
     "text": [
      "25:23:19\n"
     ]
    }
   ],
   "source": [
    "print(t1 + 5000)"
   ]
  },
  {
   "cell_type": "code",
   "execution_count": 112,
   "id": "00576f16-d2a0-4978-8672-a57c924fbd31",
   "metadata": {},
   "outputs": [
    {
     "name": "stdout",
     "output_type": "stream",
     "text": [
      "25:23:19\n"
     ]
    }
   ],
   "source": [
    "print(5000+t1)"
   ]
  },
  {
   "cell_type": "code",
   "execution_count": 113,
   "id": "4bb01531-beda-476f-8894-eab70cb4cebc",
   "metadata": {},
   "outputs": [
    {
     "data": {
      "text/plain": [
       "{'hour': 23, 'minute': 59, 'second': 59}"
      ]
     },
     "execution_count": 113,
     "metadata": {},
     "output_type": "execute_result"
    }
   ],
   "source": [
    "vars(t1)"
   ]
  },
  {
   "cell_type": "markdown",
   "id": "fe35d38e-46c5-40a1-89a8-579e6c551faf",
   "metadata": {},
   "source": [
    "# Exercise 17.2"
   ]
  },
  {
   "cell_type": "code",
   "execution_count": null,
   "id": "6fab3776-3e61-4a7e-af73-55acf6314db8",
   "metadata": {},
   "outputs": [],
   "source": [
    "class Kangaroo:\n",
    "    \"\"\"\n",
    "    Simulates a Kangaroo with pouch\n",
    "    \"\"\"\n",
    "    def __init__(self, name, pouch_contents = []):\n",
    "        self.pouch_contents = pouch_contents\n",
    "    \n",
    "    def __str__(self):\n",
    "        return "
   ]
  }
 ],
 "metadata": {
  "kernelspec": {
   "display_name": "think_python_2e",
   "language": "python",
   "name": "think_python_2e"
  },
  "language_info": {
   "codemirror_mode": {
    "name": "ipython",
    "version": 3
   },
   "file_extension": ".py",
   "mimetype": "text/x-python",
   "name": "python",
   "nbconvert_exporter": "python",
   "pygments_lexer": "ipython3",
   "version": "3.9.4"
  }
 },
 "nbformat": 4,
 "nbformat_minor": 5
}
