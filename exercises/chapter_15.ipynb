{
 "cells": [
  {
   "cell_type": "code",
   "execution_count": 1,
   "id": "cab701e7-d955-4e3e-85ea-e8909ee48d29",
   "metadata": {},
   "outputs": [],
   "source": [
    "class Point:\n",
    "    \n",
    "    \"\"\"Represents a point in 2-D space\"\"\""
   ]
  },
  {
   "cell_type": "code",
   "execution_count": 4,
   "id": "3bbdd66b-d854-44b7-81d4-a21d21945c9e",
   "metadata": {},
   "outputs": [
    {
     "data": {
      "text/plain": [
       "__main__.Point"
      ]
     },
     "execution_count": 4,
     "metadata": {},
     "output_type": "execute_result"
    }
   ],
   "source": [
    "Point"
   ]
  },
  {
   "cell_type": "code",
   "execution_count": 8,
   "id": "690bd592-fa99-42f1-a5b5-cabe0d68f288",
   "metadata": {},
   "outputs": [
    {
     "data": {
      "text/plain": [
       "<__main__.Point at 0x7fc7581e8640>"
      ]
     },
     "execution_count": 8,
     "metadata": {},
     "output_type": "execute_result"
    }
   ],
   "source": [
    "blank = Point()\n",
    "blank"
   ]
  },
  {
   "cell_type": "code",
   "execution_count": 9,
   "id": "36bb9e00-d76c-4cfc-93c1-c29e16598f1d",
   "metadata": {},
   "outputs": [],
   "source": [
    "blank.x = 3.\n",
    "blank.y = 4."
   ]
  },
  {
   "cell_type": "code",
   "execution_count": 10,
   "id": "cbb9f2c8-6d0c-4c54-96e3-bca5d6a27831",
   "metadata": {},
   "outputs": [],
   "source": [
    "class Circle:\n",
    "    \"\"\"Represents a circle in 2-D by a center of class Point and a radius\"\"\"\n",
    "    "
   ]
  },
  {
   "cell_type": "code",
   "execution_count": 14,
   "id": "58c687e6-f2b0-4042-8f8e-29afb7696207",
   "metadata": {},
   "outputs": [],
   "source": [
    "circ1 = Circle()\n",
    "center = Point()\n",
    "center.x, center.y = 150,100\n",
    "circ1.center = center\n",
    "circ1.radius = 75.0"
   ]
  },
  {
   "cell_type": "code",
   "execution_count": 15,
   "id": "d010ab56-a3e0-4ab0-a5db-4ece4871e956",
   "metadata": {},
   "outputs": [],
   "source": [
    "def point_in_circle(circle, point):\n",
    "    \"\"\"\n",
    "    Takes a Circle and a Point objects.\n",
    "    Returns True if Point is in Circle False otherwise\n",
    "    \"\"\"\n",
    "    if (point.x-circle.center.x)**2+(point.y-circle.center.y)**2 <= (circle.radius)**2:\n",
    "        return True\n",
    "    else:\n",
    "        return False"
   ]
  },
  {
   "cell_type": "code",
   "execution_count": 22,
   "id": "8d13074c-3e77-458c-87c6-edf78712a695",
   "metadata": {},
   "outputs": [],
   "source": [
    "p = Point()\n",
    "p.x, p.y = 74,100"
   ]
  },
  {
   "cell_type": "code",
   "execution_count": 23,
   "id": "c64651e6-40f7-4fa2-8d26-14f7342502c8",
   "metadata": {},
   "outputs": [
    {
     "data": {
      "text/plain": [
       "False"
      ]
     },
     "execution_count": 23,
     "metadata": {},
     "output_type": "execute_result"
    }
   ],
   "source": [
    "point_in_circle(circ1,p)"
   ]
  },
  {
   "cell_type": "code",
   "execution_count": null,
   "id": "eb0d1d33-0d35-465c-b3f5-a5f957348815",
   "metadata": {},
   "outputs": [],
   "source": []
  }
 ],
 "metadata": {
  "kernelspec": {
   "display_name": "think_python_2e",
   "language": "python",
   "name": "think_python_2e"
  },
  "language_info": {
   "codemirror_mode": {
    "name": "ipython",
    "version": 3
   },
   "file_extension": ".py",
   "mimetype": "text/x-python",
   "name": "python",
   "nbconvert_exporter": "python",
   "pygments_lexer": "ipython3",
   "version": "3.9.4"
  }
 },
 "nbformat": 4,
 "nbformat_minor": 5
}
