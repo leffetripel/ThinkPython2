{
 "cells": [
  {
   "cell_type": "code",
   "execution_count": 1,
   "id": "0da0ea7f-1cfa-48f6-9f1d-d84adcc4aa72",
   "metadata": {},
   "outputs": [],
   "source": [
    "import os"
   ]
  },
  {
   "cell_type": "code",
   "execution_count": 2,
   "id": "dc65b5a6-0b9c-41f6-a5d1-dad41d25b614",
   "metadata": {},
   "outputs": [
    {
     "data": {
      "text/plain": [
       "'/home/zadoki/Github/ThinkPython2/exercises'"
      ]
     },
     "execution_count": 2,
     "metadata": {},
     "output_type": "execute_result"
    }
   ],
   "source": [
    "os.getcwd()"
   ]
  },
  {
   "cell_type": "code",
   "execution_count": 3,
   "id": "ac63c062-82aa-4a54-a40a-b0399e67b901",
   "metadata": {},
   "outputs": [
    {
     "data": {
      "text/plain": [
       "'/home/zadoki/Github/ThinkPython2/exercises/memo.txt'"
      ]
     },
     "execution_count": 3,
     "metadata": {},
     "output_type": "execute_result"
    }
   ],
   "source": [
    "os.path.abspath('memo.txt')"
   ]
  },
  {
   "cell_type": "code",
   "execution_count": 4,
   "id": "8be9eab8-bb8b-4ac7-8668-6056c9e31390",
   "metadata": {},
   "outputs": [
    {
     "data": {
      "text/plain": [
       "True"
      ]
     },
     "execution_count": 4,
     "metadata": {},
     "output_type": "execute_result"
    }
   ],
   "source": [
    "os.path.exists('memo.txt')"
   ]
  },
  {
   "cell_type": "code",
   "execution_count": 5,
   "id": "6e7bf4d6-6cfc-4937-8b86-a95ed36c7dda",
   "metadata": {},
   "outputs": [
    {
     "data": {
      "text/plain": [
       "False"
      ]
     },
     "execution_count": 5,
     "metadata": {},
     "output_type": "execute_result"
    }
   ],
   "source": [
    "os.path.isdir('memo.txt')"
   ]
  },
  {
   "cell_type": "code",
   "execution_count": 6,
   "id": "1e51a2a0-0395-4bc2-88db-68354d1691a4",
   "metadata": {},
   "outputs": [
    {
     "data": {
      "text/plain": [
       "True"
      ]
     },
     "execution_count": 6,
     "metadata": {},
     "output_type": "execute_result"
    }
   ],
   "source": [
    "os.path.isdir('/home/zadoki')"
   ]
  },
  {
   "cell_type": "code",
   "execution_count": 7,
   "id": "141f9562-15fd-4e18-af74-7d4a6ff0ffd3",
   "metadata": {},
   "outputs": [
    {
     "data": {
      "text/plain": [
       "['memo.txt',\n",
       " 'chapter_7.ipynb',\n",
       " 'chapter_6.ipynb',\n",
       " 'chapter_8.ipynb',\n",
       " 'chapter_10.ipynb',\n",
       " '.ipynb_checkpoints',\n",
       " 'chapter_11.ipynb',\n",
       " 'chapter_14.ipynb']"
      ]
     },
     "execution_count": 7,
     "metadata": {},
     "output_type": "execute_result"
    }
   ],
   "source": [
    "os.listdir(os.getcwd())"
   ]
  },
  {
   "cell_type": "markdown",
   "id": "2db3b253-eeac-4f5c-b17b-a00d8867f161",
   "metadata": {},
   "source": [
    "# Exercise 14.1"
   ]
  },
  {
   "cell_type": "code",
   "execution_count": 8,
   "id": "3a81e1e1-6e81-4acf-9270-d54efdb1aba6",
   "metadata": {},
   "outputs": [],
   "source": [
    "def sed(inp='string', rep='blob', infile='input.txt', outfile='output.txt'):\n",
    "    try:\n",
    "        fin = open(infile, 'r')\n",
    "    except:\n",
    "        print('input file: %s, does not exist :-(' % infile)\n",
    "        return -1\n",
    "    \n",
    "    fout = open(outfile, 'w')\n",
    "    for line in fin:\n",
    "        fout.write(line.replace(inp,rep))\n",
    "    fin.close()\n",
    "    fout.close()\n",
    "    return None\n",
    "    \n",
    "    "
   ]
  },
  {
   "cell_type": "code",
   "execution_count": 10,
   "id": "ee884f7e-0a63-4c29-985a-1a4476d8aa39",
   "metadata": {},
   "outputs": [],
   "source": [
    "!echo 'a night with strings' > input.txt"
   ]
  },
  {
   "cell_type": "code",
   "execution_count": 11,
   "id": "70cdebf5-81f4-4233-8ebb-c5bd930bf2ed",
   "metadata": {},
   "outputs": [
    {
     "name": "stdout",
     "output_type": "stream",
     "text": [
      "a night with strings\n"
     ]
    }
   ],
   "source": [
    "!cat input.txt"
   ]
  },
  {
   "cell_type": "code",
   "execution_count": 14,
   "id": "87679b1b-2d3b-4070-b0a6-3b8ba56cf148",
   "metadata": {},
   "outputs": [],
   "source": [
    "sed(rep='boob')"
   ]
  },
  {
   "cell_type": "code",
   "execution_count": 15,
   "id": "6a62cd8b-65ca-41ce-a125-93b5666f2c70",
   "metadata": {},
   "outputs": [
    {
     "name": "stdout",
     "output_type": "stream",
     "text": [
      "a night with boobs\n"
     ]
    }
   ],
   "source": [
    "!cat output.txt"
   ]
  },
  {
   "cell_type": "markdown",
   "id": "77b175ac-3753-4d6b-ba1f-e83a3ba1d6b3",
   "metadata": {},
   "source": [
    "# Exercise 14.3"
   ]
  },
  {
   "cell_type": "code",
   "execution_count": 27,
   "id": "a1ceff3e-225c-4fe1-9e9d-8dbbb27e5561",
   "metadata": {},
   "outputs": [],
   "source": [
    "import hashlib\n",
    "dupdict = dict()\n",
    "\n",
    "def md5(fname):\n",
    "    hash_md5 = hashlib.md5()\n",
    "    with open(fname, \"rb\") as f:\n",
    "        for chunk in iter(lambda: f.read(4096), b\"\"):\n",
    "            hash_md5.update(chunk)\n",
    "    return hash_md5.hexdigest()\n",
    "\n",
    "def walk(dirname, filetype = 'mp3'):\n",
    "    for name in os.listdir(dirname):\n",
    "        path=os.path.join(dirname,name)\n",
    "        if os.path.isfile(path) and os.path.splitext(path)[1][1:] == filetype:\n",
    "            md5hash = md5(path)\n",
    "            if md5hash in dupdict:\n",
    "                dupdict[md5hash].append(path)\n",
    "            else:\n",
    "                dupdict[md5hash] = path\n",
    "\n",
    "        else:\n",
    "            walk(path, filetype)\n",
    "    \n",
    "\n",
    "def find_duplicates(filetype = 'mp3', dirname = None):\n",
    "    '''\n",
    "    Recursivly travels down dirname and finds duplicate files of type filetype using md5sum\n",
    "    returns a list of duplicates\n",
    "    '''\n",
    "    global dupdict\n",
    "    if dirname==None: dirname=os.getcwd()\n",
    "        \n",
    "     "
   ]
  },
  {
   "cell_type": "code",
   "execution_count": 25,
   "id": "19edaf16-af48-48f8-984d-ae000f44ce7b",
   "metadata": {},
   "outputs": [
    {
     "data": {
      "text/plain": [
       "'mp3'"
      ]
     },
     "execution_count": 25,
     "metadata": {},
     "output_type": "execute_result"
    }
   ],
   "source": [
    "os.path.splitext('superstition.mp3')[1][1:]"
   ]
  },
  {
   "cell_type": "code",
   "execution_count": null,
   "id": "051ffaeb-29e9-46be-a696-6a044c355793",
   "metadata": {},
   "outputs": [],
   "source": []
  }
 ],
 "metadata": {
  "kernelspec": {
   "display_name": "think_python_2e",
   "language": "python",
   "name": "think_python_2e"
  },
  "language_info": {
   "codemirror_mode": {
    "name": "ipython",
    "version": 3
   },
   "file_extension": ".py",
   "mimetype": "text/x-python",
   "name": "python",
   "nbconvert_exporter": "python",
   "pygments_lexer": "ipython3",
   "version": "3.9.4"
  }
 },
 "nbformat": 4,
 "nbformat_minor": 5
}
