{
 "cells": [
  {
   "cell_type": "code",
   "execution_count": 31,
   "id": "c50ae36a-c69a-4827-a298-2bbb406ad8f3",
   "metadata": {},
   "outputs": [],
   "source": [
    "class Card:\n",
    "    suit_names = ['Clubs','Diamonds','Hearts','Spades']\n",
    "    rank_names = [None,'Ace','2','3','4','5','6','7','8','9','10','Jack','Queen','King']\n",
    "    \n",
    "    def __init__(self, suit=0, rank=2):\n",
    "        self.suit = suit\n",
    "        self.rank = rank\n",
    "    \n",
    "    def __str__(self):\n",
    "        return '%s of %s' % (Card.rank_names[self.rank],\n",
    "                             Card.suit_names[self.suit])\n",
    "    def __lt__(self, other):\n",
    "        t1 = self.suit, self.rank\n",
    "        t2 = other.suit, other.rank\n",
    "        return t1 < t2\n",
    "    \n",
    "    def __eq__(self, other):\n",
    "        t1 = self.suit, self.rank\n",
    "        t2 = other.suit, other.rank\n",
    "        return t1 == t2        "
   ]
  },
  {
   "cell_type": "code",
   "execution_count": 104,
   "id": "ba979a86-b554-4902-843a-6aa2b1051487",
   "metadata": {},
   "outputs": [],
   "source": [
    "import random\n",
    "class Deck:\n",
    "    def __init__(self):\n",
    "        self.cards = []\n",
    "        for suit in range(4):\n",
    "            for rank in range(1,14):\n",
    "                card = Card(suit, rank)\n",
    "                self.cards.append(card)\n",
    "    \n",
    "    def __str__(self):\n",
    "        res = []\n",
    "        for card in self.cards:\n",
    "            res.append(str(card))\n",
    "        return '\\n'.join(res)\n",
    "    \n",
    "    def pop_card(self):\n",
    "        return self.cards.pop()\n",
    "    \n",
    "    def add_card(self, card):\n",
    "        self.cards.append(card)\n",
    "        \n",
    "    def shuffle(self):\n",
    "        random.shuffle(self.cards)\n",
    "        \n",
    "    def sort(self):\n",
    "        self.cards.sort()\n",
    "        \n",
    "    def move_cards(self, hand, num):\n",
    "        for i in range(num):\n",
    "            hand.add_card(self.pop_card())\n",
    "            \n",
    "    def deal_hands(self,number_of_hands=1, number_of_cards=1):\n",
    "        hands = []\n",
    "        for i in range(number_of_hands):\n",
    "            hand = Hand('Hand number %s' % str(i+1))\n",
    "            print(hand)\n",
    "            self.move_cards(hand, number_of_cards)\n",
    "            hands.append(hand)\n",
    "        return hands\n",
    "            "
   ]
  },
  {
   "cell_type": "code",
   "execution_count": 105,
   "id": "92131a67-3eb8-4eae-aad0-fd0e75f6ba7f",
   "metadata": {},
   "outputs": [],
   "source": [
    "class Hand(Deck):\n",
    "    \n",
    "    def __init__(self, label=''):\n",
    "        self.cards = []\n",
    "        self.label = label"
   ]
  },
  {
   "cell_type": "code",
   "execution_count": 109,
   "id": "6c1ab95e-62dc-412b-80a1-666e9b9202e0",
   "metadata": {},
   "outputs": [
    {
     "name": "stdout",
     "output_type": "stream",
     "text": [
      "\n",
      "\n",
      "\n",
      "\n",
      "Hand number 1\n",
      "4 of Diamonds\n",
      "Ace of Diamonds\n",
      "King of Spades\n",
      "8 of Diamonds\n",
      "5 of Diamonds\n",
      "Hand number 2\n",
      "Ace of Spades\n",
      "Queen of Spades\n",
      "Jack of Clubs\n",
      "3 of Diamonds\n",
      "4 of Hearts\n",
      "Hand number 3\n",
      "6 of Clubs\n",
      "8 of Clubs\n",
      "10 of Hearts\n",
      "5 of Spades\n",
      "3 of Spades\n",
      "Hand number 4\n",
      "7 of Clubs\n",
      "7 of Hearts\n",
      "Ace of Clubs\n",
      "King of Diamonds\n",
      "2 of Hearts\n"
     ]
    }
   ],
   "source": [
    "deck = Deck()\n",
    "\n",
    "deck.shuffle()\n",
    "\n",
    "hands = deck.deal_hands(4, 5)\n",
    "for hand in hands:\n",
    "    print(hand.label)\n",
    "    print(hand)\n"
   ]
  },
  {
   "cell_type": "code",
   "execution_count": 99,
   "id": "763ff071-1f23-48b9-b571-f4e7af149f9b",
   "metadata": {},
   "outputs": [
    {
     "name": "stdout",
     "output_type": "stream",
     "text": [
      "5 of Clubs\n",
      "7 of Diamonds\n",
      "3 of Diamonds\n",
      "Queen of Spades\n",
      "8 of Spades\n",
      "6 of Clubs\n",
      "2 of Clubs\n",
      "2 of Hearts\n",
      "5 of Hearts\n",
      "Ace of Clubs\n",
      "10 of Diamonds\n",
      "10 of Clubs\n",
      "Jack of Clubs\n",
      "9 of Diamonds\n",
      "Queen of Diamonds\n",
      "4 of Diamonds\n",
      "4 of Spades\n",
      "4 of Hearts\n",
      "3 of Clubs\n",
      "2 of Spades\n",
      "5 of Diamonds\n",
      "Jack of Hearts\n",
      "10 of Hearts\n",
      "King of Spades\n",
      "10 of Spades\n",
      "6 of Hearts\n",
      "2 of Diamonds\n",
      "Ace of Spades\n",
      "5 of Spades\n",
      "Jack of Spades\n",
      "9 of Hearts\n",
      "King of Diamonds\n",
      "Queen of Clubs\n",
      "Queen of Hearts\n",
      "6 of Spades\n",
      "8 of Clubs\n",
      "9 of Spades\n",
      "King of Hearts\n",
      "3 of Hearts\n",
      "7 of Clubs\n",
      "8 of Diamonds\n",
      "4 of Clubs\n",
      "9 of Clubs\n",
      "7 of Hearts\n",
      "Jack of Diamonds\n",
      "8 of Hearts\n",
      "King of Clubs\n",
      "6 of Diamonds\n",
      "Ace of Hearts\n",
      "3 of Spades\n",
      "7 of Spades\n",
      "Ace of Diamonds\n"
     ]
    }
   ],
   "source": [
    "print(deck)"
   ]
  },
  {
   "cell_type": "code",
   "execution_count": 86,
   "id": "0f323c27-432e-4911-b9c8-708b906824c0",
   "metadata": {},
   "outputs": [
    {
     "data": {
      "text/plain": [
       "'number 2'"
      ]
     },
     "execution_count": 86,
     "metadata": {},
     "output_type": "execute_result"
    }
   ],
   "source": [
    "hand.label"
   ]
  },
  {
   "cell_type": "code",
   "execution_count": null,
   "id": "bfeafae4-8799-4139-9de5-50d56fc335bc",
   "metadata": {},
   "outputs": [],
   "source": []
  }
 ],
 "metadata": {
  "kernelspec": {
   "display_name": "think_python_2e",
   "language": "python",
   "name": "think_python_2e"
  },
  "language_info": {
   "codemirror_mode": {
    "name": "ipython",
    "version": 3
   },
   "file_extension": ".py",
   "mimetype": "text/x-python",
   "name": "python",
   "nbconvert_exporter": "python",
   "pygments_lexer": "ipython3",
   "version": "3.9.4"
  }
 },
 "nbformat": 4,
 "nbformat_minor": 5
}
